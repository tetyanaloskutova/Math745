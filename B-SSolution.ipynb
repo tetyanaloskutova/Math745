{
 "cells": [
  {
   "cell_type": "code",
   "execution_count": 10,
   "metadata": {},
   "outputs": [
    {
     "name": "stdout",
     "output_type": "stream",
     "text": [
      "Requirement already satisfied: matplotlib in c:\\users\\tl\\anaconda3\\envs\\mediaenv\\lib\\site-packages (3.0.3)\n",
      "Requirement already satisfied: pyparsing!=2.0.4,!=2.1.2,!=2.1.6,>=2.0.1 in c:\\users\\tl\\anaconda3\\envs\\mediaenv\\lib\\site-packages (from matplotlib) (2.3.1)\n",
      "Requirement already satisfied: python-dateutil>=2.1 in c:\\users\\tl\\anaconda3\\envs\\mediaenv\\lib\\site-packages (from matplotlib) (2.8.0)\n",
      "Requirement already satisfied: cycler>=0.10 in c:\\users\\tl\\anaconda3\\envs\\mediaenv\\lib\\site-packages (from matplotlib) (0.10.0)\n",
      "Requirement already satisfied: kiwisolver>=1.0.1 in c:\\users\\tl\\anaconda3\\envs\\mediaenv\\lib\\site-packages (from matplotlib) (1.0.1)\n",
      "Requirement already satisfied: numpy>=1.10.0 in c:\\users\\tl\\anaconda3\\envs\\mediaenv\\lib\\site-packages (from matplotlib) (1.21.0)\n",
      "Requirement already satisfied: six>=1.5 in c:\\users\\tl\\anaconda3\\envs\\mediaenv\\lib\\site-packages (from python-dateutil>=2.1->matplotlib) (1.12.0)\n",
      "Requirement already satisfied: setuptools in c:\\users\\tl\\anaconda3\\envs\\mediaenv\\lib\\site-packages (from kiwisolver>=1.0.1->matplotlib) (41.0.1)\n",
      "Requirement already satisfied: scipy in c:\\users\\tl\\anaconda3\\envs\\mediaenv\\lib\\site-packages (1.2.1)\n",
      "Requirement already satisfied: numpy>=1.8.2 in c:\\users\\tl\\anaconda3\\envs\\mediaenv\\lib\\site-packages (from scipy) (1.21.0)\n",
      "Requirement already satisfied: pandas in c:\\users\\tl\\anaconda3\\envs\\mediaenv\\lib\\site-packages (1.3.0)\n",
      "Requirement already satisfied: numpy>=1.17.3 in c:\\users\\tl\\anaconda3\\envs\\mediaenv\\lib\\site-packages (from pandas) (1.21.0)\n",
      "Requirement already satisfied: pytz>=2017.3 in c:\\users\\tl\\anaconda3\\envs\\mediaenv\\lib\\site-packages (from pandas) (2018.9)\n",
      "Requirement already satisfied: python-dateutil>=2.7.3 in c:\\users\\tl\\anaconda3\\envs\\mediaenv\\lib\\site-packages (from pandas) (2.8.0)\n",
      "Requirement already satisfied: six>=1.5 in c:\\users\\tl\\anaconda3\\envs\\mediaenv\\lib\\site-packages (from python-dateutil>=2.7.3->pandas) (1.12.0)\n"
     ]
    }
   ],
   "source": [
    "#libraries to run in Binder\n",
    "!pip install matplotlib\n",
    "!pip install scipy\n",
    "!pip install pandas"
   ]
  },
  {
   "cell_type": "code",
   "execution_count": 206,
   "metadata": {},
   "outputs": [],
   "source": [
    "import matplotlib.pyplot as plt\n",
    "import numpy as np\n",
    "from numpy.fft import fft, ifft\n",
    "from scipy.integrate import odeint\n",
    "import numpy as np\n",
    "import scipy as sp\n",
    "from scipy import sparse\n",
    "from scipy.linalg import eig\n",
    "from scipy.linalg import toeplitz\n",
    "from mpl_toolkits.mplot3d import Axes3D\n",
    "from matplotlib import cm\n",
    "from matplotlib.ticker import LinearLocator, FormatStrFormatter\n",
    "from math import log, sqrt, pi, exp\n",
    "from scipy.stats import norm\n",
    "from datetime import datetime, date\n",
    "import pandas as pd\n",
    "from matplotlib.ticker import LogLocator"
   ]
  },
  {
   "cell_type": "markdown",
   "metadata": {},
   "source": [
    "# 1. Exact Solution"
   ]
  },
  {
   "cell_type": "code",
   "execution_count": 149,
   "metadata": {},
   "outputs": [],
   "source": [
    "\n",
    "\n",
    "def d1(S,K,T,r,sigma):\n",
    "    return(log(S/K)+(r+sigma**2/2.)*T)/(sigma*sqrt(T))\n",
    "def d2(S,K,T,r,sigma):\n",
    "    return d1(S,K,T,r,sigma)-sigma*sqrt(T)\n",
    "\n",
    "def bs_call(S,K,T,r,sigma,t):\n",
    "    if S==0:\n",
    "        return 0\n",
    "    if T == t:\n",
    "        return max(S-K,0)\n",
    "    tau = T-t\n",
    "    return S*norm.cdf(d1(S,K,tau,r,sigma))-K*exp(-r*tau)*norm.cdf(d2(S,K,tau,r,sigma))\n",
    "\n",
    "def bs_call_no_sigma(S,K,T,r,sigma):\n",
    "    return S-K*exp(-r*T)"
   ]
  },
  {
   "cell_type": "code",
   "execution_count": 150,
   "metadata": {},
   "outputs": [],
   "source": [
    "# Exact solution when using transformed variable x=y\n",
    "def exact(t,x):\n",
    "    te=T-t\n",
    "    S=L*(1+x)/(1-x)\n",
    "    \n",
    "    return bs_call(S,K,T,r,sigma,te)"
   ]
  },
  {
   "cell_type": "markdown",
   "metadata": {},
   "source": [
    "# 2. Collocation solution based on Chebyshev Polynomials"
   ]
  },
  {
   "cell_type": "code",
   "execution_count": 151,
   "metadata": {},
   "outputs": [],
   "source": [
    "from math import log, sqrt, pi, exp\n",
    "from scipy.stats import norm\n",
    "from datetime import datetime, date\n",
    "import numpy as np\n",
    "import pandas as pd\n",
    "from pandas import DataFrame"
   ]
  },
  {
   "cell_type": "markdown",
   "metadata": {},
   "source": [
    "## 2.1. Variables definition"
   ]
  },
  {
   "cell_type": "code",
   "execution_count": 152,
   "metadata": {},
   "outputs": [],
   "source": [
    "#vars \n",
    "\n",
    "L   = 20.0 #20 gives a reasonable Smax of 278\n",
    "nx  = 64\n",
    "a   = 1.0;sigma=np.sqrt(2)\n",
    "cfl = 0.9\n",
    "r=0.01\n",
    "r_sigma=r-1/2*sigma**2\n",
    "K=70\n",
    "\n",
    "N=12\n",
    "TN=NT=120\n",
    "M=2#order or diff equation - constant\n",
    "T = 1"
   ]
  },
  {
   "cell_type": "markdown",
   "metadata": {},
   "source": [
    "## 2.2. Chebyhev differentiation matrix"
   ]
  },
  {
   "cell_type": "code",
   "execution_count": 153,
   "metadata": {},
   "outputs": [],
   "source": [
    "\n",
    "def chebdif(N,M):\n",
    "    # differentiation matrices using Chebyshev collocation. N - number of gridpoints, M -order of derivative\n",
    "      \n",
    "    if M >= N:\n",
    "        raise Exception('numer of nodes must be greater than M')\n",
    "        \n",
    "    if M <= 0:\n",
    "         raise Exception('derivative order must be at least 1')\n",
    "\n",
    "    DM = np.zeros((M,N,N))\n",
    "    \n",
    "    n1 = int(N/2); n2 = int(round(N/2.))     # indices used for flipping trick\n",
    "    k = np.arange(N)                    # compute theta vector\n",
    "    th = k*np.pi/(N-1)\n",
    "\n",
    "    # Compute the Chebyshev points\n",
    "\n",
    "    #x = np.cos(np.pi*np.linspace(N-1,0,N)/(N-1))                # obvious way   \n",
    "    x = np.sin(np.pi*((N-1)-2*np.linspace(N-1,0,N))/(2*(N-1)))   # W&R way\n",
    "    x = x[::-1]\n",
    "    \n",
    "    # Assemble the differentiation matrices\n",
    "    T = np.tile(th/2,(N,1))\n",
    "    DX = 2*np.sin(T.T+T)*np.sin(T.T-T)               # trigonometric identity\n",
    "    DX[n1:,:] = -np.flipud(np.fliplr(DX[0:n2,:]))    # flipping trick\n",
    "    DX[range(N),range(N)]=1.                         # diagonals of D\n",
    "    DX=DX.T\n",
    "\n",
    "    C = toeplitz((-1.)**k)           # matrix with entries c(k)/c(j)\n",
    "    C[0,:]  *= 2\n",
    "    C[-1,:] *= 2\n",
    "    C[:,0] *= 0.5\n",
    "    C[:,-1] *= 0.5\n",
    "\n",
    "    Z = 1./DX                        # Z contains entries 1/(x(k)-x(j))\n",
    "    Z[range(N),range(N)] = 0.        # with zeros on the diagonal.          \n",
    "\n",
    "    D = np.eye(N)                    # D contains differentiation matrices.\n",
    "                                          \n",
    "    for ell in range(M):\n",
    "        D = (ell+1)*Z*(C*np.tile(np.diag(D),(N,1)).T - D)      # off-diagonals    \n",
    "        D[range(N),range(N)]= -np.sum(D,axis=1)        # negative sum trick\n",
    "        DM[ell,:,:] = D                                # store current D in DM\n",
    "\n",
    "    return x,DM\n"
   ]
  },
  {
   "cell_type": "markdown",
   "metadata": {},
   "source": [
    "## 2.3. Variable coefficients "
   ]
  },
  {
   "cell_type": "code",
   "execution_count": 154,
   "metadata": {},
   "outputs": [],
   "source": [
    "def g2(x):\n",
    "    return -(1/8)*(sigma**2)*((x+1)**2)*((1-x)**2)"
   ]
  },
  {
   "cell_type": "code",
   "execution_count": 155,
   "metadata": {},
   "outputs": [],
   "source": [
    "def g3(x,L):\n",
    "    return -(r/2)*(x+1)*(1-x)-(1/8)*sigma**2*(x+1)**2*(1-x)*L"
   ]
  },
  {
   "cell_type": "markdown",
   "metadata": {},
   "source": [
    "## 2.4. Functions"
   ]
  },
  {
   "cell_type": "code",
   "execution_count": 156,
   "metadata": {},
   "outputs": [],
   "source": [
    "from itertools import combinations\n",
    "def backslash(A,b):\n",
    "    num_vars = A.shape[1]\n",
    "    rank = np.linalg.matrix_rank(A)\n",
    "    if rank == num_vars:              \n",
    "        sol = np.linalg.lstsq(A, b)[0]    # not under-determined\n",
    "    else:\n",
    "        for nz in combinations(range(num_vars), rank):    # the variables not set to zero\n",
    "            try: \n",
    "                sol = np.zeros((num_vars, 1))  \n",
    "                sol[nz, :] = np.asarray(np.linalg.solve(A[:, nz], b))\n",
    "                \n",
    "            except np.linalg.LinAlgError:     \n",
    "                pass                    # picked bad variables, can't solve\n",
    "    return sol"
   ]
  },
  {
   "cell_type": "code",
   "execution_count": 157,
   "metadata": {},
   "outputs": [],
   "source": [
    "def pend(y, t, A, tn):#only internal points \n",
    "    \n",
    "    \n",
    "    y_middle = y[1:-1]\n",
    "    y_start=y[0]#-D1.dot(y)[0]\n",
    "    y_end = y[-1]#-D1.dot(y)[-1]\n",
    "    \n",
    "    y_hat = backslash(A,y[1:-1])\n",
    "    y_hat = y_hat*t/tn\n",
    "    \n",
    "    res = (A).dot(y_hat)\n",
    "    res = np.append(np.append(y_start,res),y_end)\n",
    "    # de-aliasing\n",
    "    N32 = int(A.shape[1])\n",
    "    N = int(A.shape[1]/3*2)\n",
    "    to_remove = int((N32-N))\n",
    "    \n",
    "    res[-to_remove:]=0.0\n",
    "    \n",
    "    return res"
   ]
  },
  {
   "cell_type": "code",
   "execution_count": 158,
   "metadata": {},
   "outputs": [],
   "source": [
    "def rungekutta4(f, y0, t, A):\n",
    "    n = len(t)\n",
    "    y = np.zeros((n, len(y0)))\n",
    "    y[0] = y0\n",
    "\n",
    "    for i in range(n - 1):\n",
    "        #print(y[i])\n",
    "        h = t[i+1] - t[i]\n",
    "        k1 = f(y[i], t[i], A, n)\n",
    "        \n",
    "        k2 = f(y[i] + k1 * h / 2., t[i] + h / 2., A, n)\n",
    "        \n",
    "        k3 = f(y[i] + k2 * h / 2., t[i] + h / 2., A, n)\n",
    "        k4 = f(y[i] + k3 * h, t[i] + h, A, n)\n",
    "        #try R-K dependent on delta_t\n",
    "        #k2 = f(y[i] + k1 * h / 2., h / 2., A)\n",
    "        \n",
    "        #k3 = f(y[i] + k2 * h / 2., h / 2., A)\n",
    "        #k4 = f(y[i] + k3 * h,  h, A)\n",
    "        \n",
    "        y[i+1] = y[i] + (h / 6.) * (k1 + 2*k2 + 2*k3 + k4)\n",
    "        \n",
    "    return y"
   ]
  },
  {
   "cell_type": "code",
   "execution_count": 159,
   "metadata": {},
   "outputs": [],
   "source": [
    "def make_matrix(D,x):\n",
    "    D1 = D[0,:,:]                   # first derivative\n",
    "    D2 = D[1,:,:]                   # second derivative\n",
    "    D0=np.identity(D.shape[1])\n",
    "    #D0[0,:]=0\n",
    "    D0[-1,:]=0\n",
    "\n",
    "    for j in range(D.shape[1]):\n",
    "        for i in range(D.shape[2]):\n",
    "            if i== 0 or i == D.shape[1]-1:  \n",
    "                D1[j,i]=D1[j,i]*(0)\n",
    "                D2[j,i]=D2[j,i]*0\n",
    "            else: \n",
    "                \n",
    "                D1[j,i]=D1[j,i]*g3(x[j],L)\n",
    "                D2[j,i]=D2[j,i]*g2(x[j])\n",
    "    D0=D0*r\n",
    "    \n",
    "    A=D0.T+D1.T+D2.T\n",
    "    A[0]=A[-1]=A[0]*0\n",
    "    \n",
    "    A[:,0]=D0[0]\n",
    "    A[:,-1]=D0[-1]  \n",
    "    \n",
    "    return A"
   ]
  },
  {
   "cell_type": "code",
   "execution_count": 160,
   "metadata": {},
   "outputs": [],
   "source": [
    "def cheb_int( N, TN,L ):\n",
    "    N32=int(N*3/2)\n",
    "    x, D = chebdif(N32, M)        # first two derivatives\n",
    "    \n",
    "    D1 = D[0,:,:]                   # first derivative\n",
    "    D2 = D[1,:,:]                   # second derivative\n",
    "    A = make_matrix(D,x)\n",
    "    A = A[1:-1,1:-1]\n",
    "    \n",
    "    #get initial values\n",
    "    y0 = [max(L*(xi+1)/(1-xi)-K,0) for xi in x]\n",
    "    y0[-1] = 0 #boundary\n",
    "    \n",
    "    t4 = np.linspace(0, T, TN)\n",
    "    t4 = np.flip(t4)\n",
    "    sol4 = rungekutta4(pend, y0, t4, A)\n",
    "    \n",
    "    return (t4,x,sol4)"
   ]
  },
  {
   "cell_type": "markdown",
   "metadata": {},
   "source": [
    "## 2.5. Implementation"
   ]
  },
  {
   "cell_type": "code",
   "execution_count": 161,
   "metadata": {},
   "outputs": [],
   "source": [
    "x, D = chebdif(N, M) \n",
    "A=make_matrix(D,x)"
   ]
  },
  {
   "cell_type": "code",
   "execution_count": 162,
   "metadata": {},
   "outputs": [
    {
     "name": "stderr",
     "output_type": "stream",
     "text": [
      "c:\\users\\tl\\anaconda3\\envs\\mediaenv\\lib\\site-packages\\ipykernel_launcher.py:2: RuntimeWarning: divide by zero encountered in double_scalars\n",
      "  \n"
     ]
    }
   ],
   "source": [
    "# boundary values for y where y is S ported to [-1,1]\n",
    "y0=[L*(1+x1)/(1-x1) for x1 in x]\n",
    "y0[-1]=0"
   ]
  },
  {
   "cell_type": "code",
   "execution_count": 163,
   "metadata": {},
   "outputs": [
    {
     "name": "stderr",
     "output_type": "stream",
     "text": [
      "c:\\users\\tl\\anaconda3\\envs\\mediaenv\\lib\\site-packages\\ipykernel_launcher.py:11: RuntimeWarning: divide by zero encountered in double_scalars\n",
      "  # This is added back by InteractiveShellApp.init_path()\n",
      "c:\\users\\tl\\anaconda3\\envs\\mediaenv\\lib\\site-packages\\ipykernel_launcher.py:6: FutureWarning: `rcond` parameter will change to the default of machine precision times ``max(M, N)`` where M and N are the input matrix dimensions.\n",
      "To use the future default and silence this warning we advise to pass `rcond=None`, to keep using the old, explicitly pass `rcond=-1`.\n",
      "  \n",
      "c:\\users\\tl\\anaconda3\\envs\\mediaenv\\lib\\site-packages\\ipykernel_launcher.py:11: RuntimeWarning: invalid value encountered in add\n",
      "  # This is added back by InteractiveShellApp.init_path()\n"
     ]
    }
   ],
   "source": [
    "(t4,x,sol4)=cheb_int( N, NT, L )\n"
   ]
  },
  {
   "cell_type": "code",
   "execution_count": 164,
   "metadata": {},
   "outputs": [
    {
     "name": "stderr",
     "output_type": "stream",
     "text": [
      "c:\\users\\tl\\anaconda3\\envs\\mediaenv\\lib\\site-packages\\ipykernel_launcher.py:6: FutureWarning: `rcond` parameter will change to the default of machine precision times ``max(M, N)`` where M and N are the input matrix dimensions.\n",
      "To use the future default and silence this warning we advise to pass `rcond=None`, to keep using the old, explicitly pass `rcond=-1`.\n",
      "  \n"
     ]
    }
   ],
   "source": [
    "from scipy.integrate import odeint\n",
    "sol = odeint(pend, y0, t4, (A[1:-1,1:-1],TN))"
   ]
  },
  {
   "cell_type": "markdown",
   "metadata": {},
   "source": [
    "###   2.5.1. How the solution behaves with time"
   ]
  },
  {
   "cell_type": "code",
   "execution_count": 189,
   "metadata": {},
   "outputs": [
    {
     "data": {
      "text/plain": [
       "(120,)"
      ]
     },
     "execution_count": 189,
     "metadata": {},
     "output_type": "execute_result"
    }
   ],
   "source": [
    "t4.shape"
   ]
  },
  {
   "cell_type": "code",
   "execution_count": 191,
   "metadata": {},
   "outputs": [],
   "source": [
    "fig,ax=plt.subplots()\n",
    "\n",
    "#ax.plot(t4,sol4[:,0], ':', color='blue', lw=1)\n",
    "ax.plot(t4,sol4[:,2], 'o', color='gray', lw=1)\n",
    "ax.plot(t4,sol4[:,3], '+', color='lime', lw=1)\n",
    "ax.plot(t4,sol4[:,-1], 'x', color='magenta', lw=1)\n",
    "    \n",
    "plt.rc('font', size=14)\n",
    "#plt.gca().set_xlim([0,10])\n",
    "#plt.gca().set_ylim([0,28000])\n",
    "plt.xlabel('t')\n",
    "plt.ylabel(r'V');\n",
    "plt.legend(['x1', 'x2', 'x3'], frameon=False);"
   ]
  },
  {
   "cell_type": "markdown",
   "metadata": {},
   "source": [
    "### 2.5.2. How the solution behaves in space (S or x)"
   ]
  },
  {
   "cell_type": "code",
   "execution_count": 192,
   "metadata": {},
   "outputs": [],
   "source": [
    "fig,ax=plt.subplots()\n",
    "legend = []\n",
    "for ix in range(len(t4)-18):\n",
    "    ax.plot(x,sol4[ix,], ':', color='blue', lw=1)\n",
    "\n",
    "    plt.rc('font', size=14)\n",
    "    #plt.gca().set_xlim([0,10])\n",
    "    #plt.gca().set_ylim([0,500])\n",
    "    plt.xlabel('x')\n",
    "    plt.ylabel(r'V');\n",
    "    legend.append(r't1 '+str(t4[ix])[:4])\n",
    "    plt.legend(legend, frameon=True);"
   ]
  },
  {
   "cell_type": "markdown",
   "metadata": {},
   "source": [
    "## 3. Visualize approximation vs Exact"
   ]
  },
  {
   "cell_type": "code",
   "execution_count": 193,
   "metadata": {},
   "outputs": [
    {
     "name": "stderr",
     "output_type": "stream",
     "text": [
      "c:\\users\\tl\\anaconda3\\envs\\mediaenv\\lib\\site-packages\\ipykernel_launcher.py:2: RuntimeWarning: divide by zero encountered in double_scalars\n",
      "  \n"
     ]
    }
   ],
   "source": [
    "# Visualizing in terms of S\n",
    "S=[L*(1+xi)/(1-xi) for xi in x]"
   ]
  },
  {
   "cell_type": "code",
   "execution_count": 194,
   "metadata": {},
   "outputs": [
    {
     "data": {
      "text/plain": [
       "2329.223831549756"
      ]
     },
     "execution_count": 194,
     "metadata": {},
     "output_type": "execute_result"
    }
   ],
   "source": [
    "Smax=S[1]\n",
    "Smax"
   ]
  },
  {
   "cell_type": "code",
   "execution_count": 195,
   "metadata": {},
   "outputs": [],
   "source": [
    "# Uncommit this line on a local machine to be able to rotate the graphs. \n",
    "#After running this cell, all graphs will start opening in a new window (not the browser, QuickTime window). To disable this behavior and see the graphs in the cells again, it is necessary to restart the kernel (menu Kernel->Restart)\n",
    "\n",
    "\n",
    "#%matplotlib qt"
   ]
  },
  {
   "cell_type": "code",
   "execution_count": 196,
   "metadata": {},
   "outputs": [
    {
     "name": "stderr",
     "output_type": "stream",
     "text": [
      "c:\\users\\tl\\anaconda3\\envs\\mediaenv\\lib\\site-packages\\ipykernel_launcher.py:11: RuntimeWarning: divide by zero encountered in double_scalars\n",
      "  # This is added back by InteractiveShellApp.init_path()\n",
      "c:\\users\\tl\\anaconda3\\envs\\mediaenv\\lib\\site-packages\\ipykernel_launcher.py:6: FutureWarning: `rcond` parameter will change to the default of machine precision times ``max(M, N)`` where M and N are the input matrix dimensions.\n",
      "To use the future default and silence this warning we advise to pass `rcond=None`, to keep using the old, explicitly pass `rcond=-1`.\n",
      "  \n",
      "c:\\users\\tl\\anaconda3\\envs\\mediaenv\\lib\\site-packages\\ipykernel_launcher.py:11: RuntimeWarning: invalid value encountered in add\n",
      "  # This is added back by InteractiveShellApp.init_path()\n"
     ]
    }
   ],
   "source": [
    "# Make data.\n",
    "\n",
    "x, D = chebdif(N, M)        # first two derivatives\n",
    "\n",
    "A=make_matrix(D,x)\n",
    "\n",
    "(t4,x,sol4)=cheb_int( N, NT, L )\n",
    "# without infinity point\n",
    "xn=x[1:]\n",
    "X, Y = np.meshgrid(xn, t4)\n",
    "\n",
    "Z = np.zeros((len(t4),len(xn)))\n",
    "for i in range(len(t4)):\n",
    "    for j in range(len(xn)):\n",
    "        Z[i,j]=exact(t4[i],xn[j])\n",
    "        \n",
    "        \n",
    "# Plot the surface.\n",
    "fig, ax = plt.subplots(subplot_kw={\"projection\": \"3d\"})\n",
    "surf = ax.plot_surface(X, Y, Z, cmap=cm.rainbow,\n",
    "                       linewidth=0, antialiased=False)\n",
    "\n",
    "surf = ax.plot_surface(X, Y, sol4[:,1:], rstride=1, cstride=1,\n",
    "                        cmap=cm.coolwarm,\n",
    "                        alpha=1,\n",
    "                       linewidth=0, antialiased=False)\n",
    "# Customize the z axis.\n",
    "#ax.set_zlim(-1.01, 1.01)\n",
    "ax.zaxis.set_major_locator(LinearLocator(10))\n",
    "ax.set_xlabel('x', fontsize=20, rotation=150)\n",
    "ax.set_ylabel('t')\n",
    "ax.set_zlabel(r'V', fontsize=30, rotation=60)\n",
    "# A StrMethodFormatter is used automatically\n",
    "\n",
    "# Add a color bar which maps values to colors.\n",
    "#fig.colorbar(surf, shrink=0.5, aspect=5)\n",
    "plt.show()\n"
   ]
  },
  {
   "cell_type": "markdown",
   "metadata": {},
   "source": [
    "# 5. Studying Convergence of the Error"
   ]
  },
  {
   "cell_type": "code",
   "execution_count": 200,
   "metadata": {},
   "outputs": [],
   "source": [
    " # using the same data as in the plot above"
   ]
  },
  {
   "cell_type": "code",
   "execution_count": 201,
   "metadata": {},
   "outputs": [],
   "source": [
    "sol4Z = sol4[:,1:]"
   ]
  },
  {
   "cell_type": "code",
   "execution_count": 202,
   "metadata": {},
   "outputs": [
    {
     "data": {
      "text/plain": [
       "0.04287278210798173"
      ]
     },
     "execution_count": 202,
     "metadata": {},
     "output_type": "execute_result"
    }
   ],
   "source": [
    "np.linalg.norm(sol4Z - Z, np.inf)/np.linalg.norm(Z, np.inf)"
   ]
  },
  {
   "cell_type": "code",
   "execution_count": 203,
   "metadata": {},
   "outputs": [
    {
     "name": "stderr",
     "output_type": "stream",
     "text": [
      "c:\\users\\tl\\anaconda3\\envs\\mediaenv\\lib\\site-packages\\ipykernel_launcher.py:1: RuntimeWarning: divide by zero encountered in true_divide\n",
      "  \"\"\"Entry point for launching an IPython kernel.\n",
      "c:\\users\\tl\\anaconda3\\envs\\mediaenv\\lib\\site-packages\\ipykernel_launcher.py:1: RuntimeWarning: invalid value encountered in true_divide\n",
      "  \"\"\"Entry point for launching an IPython kernel.\n"
     ]
    }
   ],
   "source": [
    "pd.DataFrame(np.abs((sol4Z-Z)/Z)).to_csv(\"errors.csv\")"
   ]
  },
  {
   "cell_type": "markdown",
   "metadata": {},
   "source": [
    "## 5.1. Error as a function of number of x points (S dimension)"
   ]
  },
  {
   "cell_type": "code",
   "execution_count": null,
   "metadata": {},
   "outputs": [
    {
     "name": "stderr",
     "output_type": "stream",
     "text": [
      "c:\\users\\tl\\anaconda3\\envs\\mediaenv\\lib\\site-packages\\ipykernel_launcher.py:11: RuntimeWarning: divide by zero encountered in double_scalars\n",
      "  # This is added back by InteractiveShellApp.init_path()\n",
      "c:\\users\\tl\\anaconda3\\envs\\mediaenv\\lib\\site-packages\\ipykernel_launcher.py:6: FutureWarning: `rcond` parameter will change to the default of machine precision times ``max(M, N)`` where M and N are the input matrix dimensions.\n",
      "To use the future default and silence this warning we advise to pass `rcond=None`, to keep using the old, explicitly pass `rcond=-1`.\n",
      "  \n",
      "c:\\users\\tl\\anaconda3\\envs\\mediaenv\\lib\\site-packages\\ipykernel_launcher.py:11: RuntimeWarning: invalid value encountered in add\n",
      "  # This is added back by InteractiveShellApp.init_path()\n"
     ]
    }
   ],
   "source": [
    "Nmin = 4\n",
    "n = Nmin\n",
    "i = 1\n",
    "\n",
    "ns=[]\n",
    "err=[]\n",
    "\n",
    "norminf=[]\n",
    "while ( n <= 205 ):  \n",
    "    x, D = chebdif(n, M)        # first two derivatives\n",
    "\n",
    "    A=make_matrix(D,x)\n",
    "\n",
    "    (t4,x,sol4)=cheb_int( n, NT, L )\n",
    "    sol4Z = sol4[:,1:]\n",
    "    xn=x[1:]\n",
    "    \n",
    "    Z = np.zeros((len(t4),len(xn)))\n",
    "    for i in range(len(t4)):\n",
    "        for j in range(len(xn)):\n",
    "            Z[i,j]=exact(t4[i],xn[j])\n",
    "    norminf.append(np.linalg.norm(sol4Z - Z, np.inf)/np.linalg.norm(Z, np.inf))\n",
    "    ns.append(n)\n",
    "    n = n * 2;\n",
    "# Plotting the error;\n",
    "fig,ax=plt.subplots()\n",
    "\n",
    "ax.plot(ns,norminf, ':', color='red', lw=1)\n",
    "#ax.set_xscale('log')\n",
    "ax.set_yscale('log')\n",
    "ax.yaxis.set_major_locator(LogLocator(base = 10))\n",
    "\n",
    "plt.rc('font', size=14)\n",
    "#plt.gca().set_xlim([0,10])\n",
    "plt.xlabel('N')\n",
    "plt.ylabel('error');\n",
    "\n",
    "plt.legend(['Infinity norm'], frameon=True);"
   ]
  },
  {
   "cell_type": "markdown",
   "metadata": {},
   "source": [
    "## 5.2. Error as a function of max time intervals TN"
   ]
  },
  {
   "cell_type": "code",
   "execution_count": 214,
   "metadata": {},
   "outputs": [
    {
     "name": "stderr",
     "output_type": "stream",
     "text": [
      "c:\\users\\tl\\anaconda3\\envs\\mediaenv\\lib\\site-packages\\ipykernel_launcher.py:11: RuntimeWarning: divide by zero encountered in double_scalars\n",
      "  # This is added back by InteractiveShellApp.init_path()\n",
      "c:\\users\\tl\\anaconda3\\envs\\mediaenv\\lib\\site-packages\\ipykernel_launcher.py:6: FutureWarning: `rcond` parameter will change to the default of machine precision times ``max(M, N)`` where M and N are the input matrix dimensions.\n",
      "To use the future default and silence this warning we advise to pass `rcond=None`, to keep using the old, explicitly pass `rcond=-1`.\n",
      "  \n",
      "c:\\users\\tl\\anaconda3\\envs\\mediaenv\\lib\\site-packages\\ipykernel_launcher.py:11: RuntimeWarning: invalid value encountered in add\n",
      "  # This is added back by InteractiveShellApp.init_path()\n"
     ]
    }
   ],
   "source": [
    "# For  t\n",
    "Nmin = 40\n",
    "t = tmin = 15\n",
    "\n",
    "ts=[]\n",
    "err=[]\n",
    "\n",
    "norminf=[]\n",
    "while ( t <= 125 ):  \n",
    "    x, D = chebdif(Nmin, M)        # first two derivatives\n",
    "\n",
    "    A=make_matrix(D,x)\n",
    "\n",
    "    (t4,x,sol4)=cheb_int( Nmin, t, L )\n",
    "    sol4Z = sol4[:,1:]\n",
    "    xn=x[1:]\n",
    "    \n",
    "    Z = np.zeros((len(t4),len(xn)))\n",
    "    for i in range(len(t4)):\n",
    "        for j in range(len(xn)):\n",
    "            Z[i,j]=exact(t4[i],xn[j])\n",
    "    norminf.append(np.linalg.norm(sol4Z - Z, np.inf)/np.linalg.norm(Z, np.inf))\n",
    "    ts.append(t)\n",
    "    t = t + 5;\n",
    "# Plotting the error;\n",
    "fig,ax=plt.subplots()\n",
    "\n",
    "ax.plot(ts,norminf, ':', color='red', lw=1)\n",
    "#ax.set_xscale('log')\n",
    "ax.set_yscale('log')\n",
    "ax.yaxis.set_major_locator(LogLocator(base = 10))\n",
    "plt.rc('font', size=14)\n",
    "#plt.gca().set_xlim([0,10])\n",
    "plt.xlabel('T')\n",
    "plt.ylabel('error');\n",
    "\n",
    "plt.legend(['Infinity norm'], frameon=True);"
   ]
  },
  {
   "cell_type": "markdown",
   "metadata": {},
   "source": [
    "## 5.3. Error as a function of L"
   ]
  },
  {
   "cell_type": "code",
   "execution_count": 215,
   "metadata": {},
   "outputs": [
    {
     "name": "stderr",
     "output_type": "stream",
     "text": [
      "c:\\users\\tl\\anaconda3\\envs\\mediaenv\\lib\\site-packages\\ipykernel_launcher.py:11: RuntimeWarning: divide by zero encountered in double_scalars\n",
      "  # This is added back by InteractiveShellApp.init_path()\n",
      "c:\\users\\tl\\anaconda3\\envs\\mediaenv\\lib\\site-packages\\ipykernel_launcher.py:6: FutureWarning: `rcond` parameter will change to the default of machine precision times ``max(M, N)`` where M and N are the input matrix dimensions.\n",
      "To use the future default and silence this warning we advise to pass `rcond=None`, to keep using the old, explicitly pass `rcond=-1`.\n",
      "  \n",
      "c:\\users\\tl\\anaconda3\\envs\\mediaenv\\lib\\site-packages\\ipykernel_launcher.py:11: RuntimeWarning: invalid value encountered in add\n",
      "  # This is added back by InteractiveShellApp.init_path()\n"
     ]
    }
   ],
   "source": [
    "#dependence on L\n",
    "l = 4\n",
    "Nmin = 40\n",
    "t = tmin = 15\n",
    "\n",
    "ls=[]\n",
    "err=[]\n",
    "\n",
    "norminf=[]\n",
    "while ( l <= 40 ):  \n",
    "    x, D = chebdif(Nmin, M)        \n",
    "\n",
    "    A=make_matrix(D,x)\n",
    "\n",
    "    (t4,x,sol4)=cheb_int( Nmin, t, l )\n",
    "    sol4Z = sol4[:,1:]\n",
    "    xn=x[1:]\n",
    "    \n",
    "    Z = np.zeros((len(t4),len(xn)))\n",
    "    for i in range(len(t4)):\n",
    "        for j in range(len(xn)):\n",
    "            Z[i,j]=exact(t4[i],xn[j])\n",
    "    norminf.append(np.linalg.norm(sol4Z - Z, np.inf)/np.linalg.norm(Z, np.inf))\n",
    "    ls.append(l)\n",
    "    l = l + 1;\n",
    "# Plotting the error;\n",
    "fig,ax=plt.subplots()\n",
    "\n",
    "ax.plot(ls,norminf, ':', color='red', lw=1)\n",
    "\n",
    "ax.set_yscale('log')\n",
    "\n",
    "plt.rc('font', size=14)\n",
    "\n",
    "plt.xlabel('L')\n",
    "plt.ylabel('error');\n",
    "\n",
    "plt.legend(['Infinity norm'], frameon=True);"
   ]
  },
  {
   "cell_type": "code",
   "execution_count": null,
   "metadata": {},
   "outputs": [],
   "source": []
  },
  {
   "cell_type": "code",
   "execution_count": null,
   "metadata": {},
   "outputs": [],
   "source": []
  },
  {
   "cell_type": "code",
   "execution_count": null,
   "metadata": {},
   "outputs": [],
   "source": []
  }
 ],
 "metadata": {
  "kernelspec": {
   "display_name": "Python 3",
   "language": "python",
   "name": "python3"
  },
  "language_info": {
   "codemirror_mode": {
    "name": "ipython",
    "version": 3
   },
   "file_extension": ".py",
   "mimetype": "text/x-python",
   "name": "python",
   "nbconvert_exporter": "python",
   "pygments_lexer": "ipython3",
   "version": "3.7.3"
  }
 },
 "nbformat": 4,
 "nbformat_minor": 5
}
