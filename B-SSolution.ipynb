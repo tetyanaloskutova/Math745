{
 "cells": [
  {
   "cell_type": "code",
   "execution_count": 2,
   "metadata": {},
   "outputs": [],
   "source": [
    "import matplotlib.pyplot as plt\n",
    "import numpy as np\n",
    "from numpy.fft import fft, ifft\n",
    "from scipy.integrate import odeint"
   ]
  },
  {
   "cell_type": "markdown",
   "metadata": {},
   "source": [
    "# 1. Exact Solution"
   ]
  },
  {
   "cell_type": "code",
   "execution_count": 91,
   "metadata": {},
   "outputs": [],
   "source": [
    "from math import log, sqrt, pi, exp\n",
    "from scipy.stats import norm\n",
    "from datetime import datetime, date\n",
    "import numpy as np\n",
    "import pandas as pd\n",
    "from pandas import DataFrame\n",
    "\n",
    "def d1(S,K,T,r,sigma):\n",
    "    return(log(S/K)+(r+sigma**2/2.)*T)/(sigma*sqrt(T))\n",
    "def d2(S,K,T,r,sigma):\n",
    "    return d1(S,K,T,r,sigma)-sigma*sqrt(T)\n",
    "\n",
    "def bs_call(S,K,T,r,sigma,t):\n",
    "    if S==0:\n",
    "        return 0\n",
    "    if T == t:\n",
    "        return max(S-K,0)\n",
    "    tau = T-t\n",
    "    return S*norm.cdf(d1(S,K,tau,r,sigma))-K*exp(-r*tau)*norm.cdf(d2(S,K,tau,r,sigma))\n",
    "\n",
    "def bs_call_no_sigma(S,K,T,r,sigma):\n",
    "    return S-K*exp(-r*T)"
   ]
  },
  {
   "cell_type": "code",
   "execution_count": 103,
   "metadata": {},
   "outputs": [],
   "source": [
    "# Exact solution when using transformed variable x=y\n",
    "def exact(t,x):\n",
    "    te=T-t\n",
    "    S=L*(1+x)/(1-x)\n",
    "    \n",
    "    return bs_call(S,K,T,r,sigma,te)"
   ]
  },
  {
   "cell_type": "markdown",
   "metadata": {},
   "source": [
    "# 2. Collocation solution based on Chebyshev Polunomials"
   ]
  },
  {
   "cell_type": "code",
   "execution_count": 92,
   "metadata": {},
   "outputs": [],
   "source": [
    "from math import log, sqrt, pi, exp\n",
    "from scipy.stats import norm\n",
    "from datetime import datetime, date\n",
    "import numpy as np\n",
    "import pandas as pd\n",
    "from pandas import DataFrame"
   ]
  },
  {
   "cell_type": "markdown",
   "metadata": {},
   "source": [
    "## 2.1. Variables definition"
   ]
  },
  {
   "cell_type": "code",
   "execution_count": 93,
   "metadata": {},
   "outputs": [],
   "source": [
    "#vars \n",
    "\n",
    "L   = 20.0 #20 gives a reasonable Smax of 278\n",
    "nx  = 64\n",
    "a   = 1.0;sigma=np.sqrt(2)\n",
    "cfl = 0.9\n",
    "r=0.01\n",
    "r_sigma=r-1/2*sigma**2\n",
    "K=70\n",
    "\n",
    "N=18\n",
    "TN=NT=120\n",
    "M=2#order or diff equation - constant\n",
    "T = 1"
   ]
  },
  {
   "cell_type": "markdown",
   "metadata": {},
   "source": [
    "## 2.2. Chebyhev differentiation matrix"
   ]
  },
  {
   "cell_type": "code",
   "execution_count": 7,
   "metadata": {},
   "outputs": [],
   "source": [
    "import numpy as np\n",
    "import scipy as sp\n",
    "from scipy import sparse\n",
    "from scipy.linalg import eig\n",
    "from scipy.linalg import toeplitz\n",
    "from mpl_toolkits.mplot3d import Axes3D\n",
    "import matplotlib.pyplot as plt\n",
    "from matplotlib import cm\n",
    "from matplotlib.ticker import LinearLocator, FormatStrFormatter\n",
    "import numpy as np\n",
    "def chebdif(N,M):\n",
    "    '''    \n",
    "    Calculate differentiation matrices using Chebyshev collocation.\n",
    "      \n",
    "    Returns the differentiation matrices D1, D2, .. DM corresponding to the \n",
    "    M-th derivative of the function f, at the N Chebyshev nodes in the \n",
    "    interval [-1,1].   \n",
    "    \n",
    "    Parameters\n",
    "    ----------\n",
    "     \n",
    "    N   : int \n",
    "          number of grid points\n",
    "         \n",
    "    M   : int\n",
    "          maximum order of the derivative, 0 < M <= N - 1\n",
    "    Returns\n",
    "    -------\n",
    "    x  : ndarray\n",
    "         N x 1 array of Chebyshev points \n",
    "         \n",
    "    DM : ndarray\n",
    "         M x N x N  array of differentiation matrices \n",
    "        \n",
    "    Notes\n",
    "    -----\n",
    "    This function returns  M differentiation matrices corresponding to the \n",
    "    1st, 2nd, ... M-th derivates on a Chebyshev grid of N points. The \n",
    "    matrices are constructed by differentiating N-th order Chebyshev \n",
    "    interpolants.  \n",
    "    \n",
    "    The M-th derivative of the grid function f is obtained by the matrix-\n",
    "    vector multiplication\n",
    "    \n",
    "    .. math::\n",
    "    \n",
    "    f^{(m)}_i = D^{(m)}_{ij}f_j\n",
    "     \n",
    "    The code implements two strategies for enhanced accuracy suggested by \n",
    "    W. Don and S. Solomonoff :\n",
    "    \n",
    "    (a) the use of trigonometric  identities to avoid the computation of\n",
    "    differences x(k)-x(j) \n",
    "    \n",
    "    (b) the use of the \"flipping trick\"  which is necessary since sin t can \n",
    "    be computed to high relative precision when t is small whereas sin (pi-t) \n",
    "    cannot.\n",
    "    \n",
    "    It may, in fact, be slightly better not to implement the strategies \n",
    "    (a) and (b). Please consult [3] for details.\n",
    "    \n",
    "    This function is based on code by Nikola Mirkov \n",
    "    http://code.google.com/p/another-chebpy\n",
    "    References\n",
    "    ----------\n",
    "    ..[1] B. Fornberg, Generation of Finite Difference Formulas on Arbitrarily\n",
    "    Spaced Grids, Mathematics of Computation 51, no. 184 (1988): 699-706.\n",
    " \n",
    "    ..[2] J. A. C. Weidemann and S. C. Reddy, A MATLAB Differentiation Matrix \n",
    "    Suite, ACM Transactions on Mathematical Software, 26, (2000) : 465-519\n",
    "    \n",
    "    ..[3] R. Baltensperger and M. R. Trummer, Spectral Differencing With A\n",
    "    Twist, SIAM Journal on Scientific Computing 24, (2002) : 1465-1487 \n",
    "           \n",
    "    Examples\n",
    "    --------\n",
    "    \n",
    "    The derivatives of functions is obtained by multiplying the vector of\n",
    "    function values by the differentiation matrix. The N-point Chebyshev\n",
    "    approximation of the first two derivatives of y = f(x) can be obtained\n",
    "    as \n",
    "    \n",
    "    >>> N = 32; M = 2; pi = np.pi\n",
    "    >>> from pyddx.sc import dmsuite as dms\n",
    "    >>> x, D = dms.chebdif(N, M)        # first two derivatives\n",
    "    >>> D1 = D[0,:,:]                   # first derivative\n",
    "    >>> D2 = D[1,:,:]                   # second derivative\n",
    "    >>> y = np.sin(2*pi*x)              # function at Chebyshev nodes\n",
    "    >>> plot(x, y, 'r', x, D1.dot(y), 'g', x, D2.dot(y), 'b')\n",
    "    >>> xlabel('$x$'), ylabel('$y$, $y^{\\prime}$, $y^{\\prime\\prime}$')\n",
    "    >>> legend(('$y$', '$y^{\\prime}$', '$y^{\\prime\\prime}$'), loc='upper left')\n",
    "    '''\n",
    "\n",
    "    if M >= N:\n",
    "        raise Exception('numer of nodes must be greater than M')\n",
    "        \n",
    "    if M <= 0:\n",
    "         raise Exception('derivative order must be at least 1')\n",
    "\n",
    "    DM = np.zeros((M,N,N))\n",
    "    \n",
    "    n1 = int(N/2); n2 = int(round(N/2.))     # indices used for flipping trick\n",
    "    k = np.arange(N)                    # compute theta vector\n",
    "    th = k*np.pi/(N-1)\n",
    "\n",
    "    # Compute the Chebyshev points\n",
    "\n",
    "    #x = np.cos(np.pi*np.linspace(N-1,0,N)/(N-1))                # obvious way   \n",
    "    x = np.sin(np.pi*((N-1)-2*np.linspace(N-1,0,N))/(2*(N-1)))   # W&R way\n",
    "    x = x[::-1]\n",
    "    \n",
    "    # Assemble the differentiation matrices\n",
    "    T = np.tile(th/2,(N,1))\n",
    "    DX = 2*np.sin(T.T+T)*np.sin(T.T-T)               # trigonometric identity\n",
    "    DX[n1:,:] = -np.flipud(np.fliplr(DX[0:n2,:]))    # flipping trick\n",
    "    DX[range(N),range(N)]=1.                         # diagonals of D\n",
    "    DX=DX.T\n",
    "\n",
    "    C = toeplitz((-1.)**k)           # matrix with entries c(k)/c(j)\n",
    "    C[0,:]  *= 2\n",
    "    C[-1,:] *= 2\n",
    "    C[:,0] *= 0.5\n",
    "    C[:,-1] *= 0.5\n",
    "\n",
    "    Z = 1./DX                        # Z contains entries 1/(x(k)-x(j))\n",
    "    Z[range(N),range(N)] = 0.        # with zeros on the diagonal.          \n",
    "\n",
    "    D = np.eye(N)                    # D contains differentiation matrices.\n",
    "                                          \n",
    "    for ell in range(M):\n",
    "        D = (ell+1)*Z*(C*np.tile(np.diag(D),(N,1)).T - D)      # off-diagonals    \n",
    "        D[range(N),range(N)]= -np.sum(D,axis=1)        # negative sum trick\n",
    "        DM[ell,:,:] = D                                # store current D in DM\n",
    "\n",
    "    return x,DM\n"
   ]
  },
  {
   "cell_type": "markdown",
   "metadata": {},
   "source": [
    "## 2.3. Variable coefficients "
   ]
  },
  {
   "cell_type": "code",
   "execution_count": 16,
   "metadata": {},
   "outputs": [],
   "source": [
    "def g2(x):\n",
    "    return -(1/8)*(sigma**2)*((x+1)**2)*((1-x)**2)"
   ]
  },
  {
   "cell_type": "code",
   "execution_count": 17,
   "metadata": {},
   "outputs": [],
   "source": [
    "def g3(x,L):\n",
    "    return -(r/2)*(x+1)*(1-x)-(1/8)*sigma**2*(x+1)**2*(1-x)*L"
   ]
  },
  {
   "cell_type": "markdown",
   "metadata": {},
   "source": [
    "## 2.4. Functions"
   ]
  },
  {
   "cell_type": "code",
   "execution_count": 94,
   "metadata": {},
   "outputs": [],
   "source": [
    "from itertools import combinations\n",
    "def backslash(A,b):\n",
    "    num_vars = A.shape[1]\n",
    "    rank = np.linalg.matrix_rank(A)\n",
    "    if rank == num_vars:              \n",
    "        sol = np.linalg.lstsq(A, b)[0]    # not under-determined\n",
    "    else:\n",
    "        for nz in combinations(range(num_vars), rank):    # the variables not set to zero\n",
    "            try: \n",
    "                sol = np.zeros((num_vars, 1))  \n",
    "                sol[nz, :] = np.asarray(np.linalg.solve(A[:, nz], b))\n",
    "                \n",
    "            except np.linalg.LinAlgError:     \n",
    "                pass                    # picked bad variables, can't solve\n",
    "    return sol"
   ]
  },
  {
   "cell_type": "code",
   "execution_count": 95,
   "metadata": {},
   "outputs": [],
   "source": [
    "def pend(y, t, A):#only internal points \n",
    "    \n",
    "    #y = np.zeros(len(y0))\n",
    "    #y_start = - D1.dot(y[0])[0,0]\n",
    "    y_middle = y[1:-1]\n",
    "    #res = backslash(A,y_middle)\n",
    "    #y_end = - D1.dot(y[-1])[-1,-1]\n",
    "    #res = [y_start] + res + [y_end]\n",
    "    # OR should I multiply all y0 and D1?\n",
    "    y_start=y[0]#-D1.dot(y)[0]\n",
    "    y_end = y[-1]#-D1.dot(y)[-1]\n",
    "    #not sure if this is cheating\n",
    "    #y_end = D1[-1,1:].dot(y0[1:])\n",
    "    #res = (A).dot(y)[1:-1]\n",
    "    #print(\"res\")\n",
    "    #print(res)\n",
    "    \n",
    "    \n",
    "    \n",
    "    \n",
    "    y_hat = backslash(A,y[1:-1])\n",
    "    #A[0] = A[0]/y0[1:-1]# move these 3 lines above backslash to get another version\n",
    "    #x, D = chebdif(N, M)        \n",
    "    #y = [np.sin(2*np.pi*xi) for xi in x]\n",
    "    #y_hat = backslash(A,y[1:-1]) # Cheb coefs of y0\n",
    "    y_hat=y_hat*t\n",
    "    res = (A).dot(y_hat)\n",
    "    res = np.append(np.append(y_start,res),y_end)\n",
    "    #res = res[0]\n",
    "    #res[0]=y_start\n",
    "    #res[-1]=y_end\n",
    "    return res"
   ]
  },
  {
   "cell_type": "code",
   "execution_count": 96,
   "metadata": {},
   "outputs": [],
   "source": [
    "def rungekutta4(f, y0, t, A):\n",
    "    n = len(t)\n",
    "    y = np.zeros((n, len(y0)))\n",
    "    y[0] = y0\n",
    "\n",
    "    for i in range(n - 1):\n",
    "        #print(y[i])\n",
    "        h = t[i+1] - t[i]\n",
    "        k1 = f(y[i], t[i], A)\n",
    "        \n",
    "        k2 = f(y[i] + k1 * h / 2., t[i] + h / 2., A)\n",
    "        \n",
    "        k3 = f(y[i] + k2 * h / 2., t[i] + h / 2., A)\n",
    "        k4 = f(y[i] + k3 * h, t[i] + h, A)\n",
    "        #try R-K dependent on delta_t\n",
    "        k2 = f(y[i] + k1 * h / 2., h / 2., A)\n",
    "        \n",
    "        k3 = f(y[i] + k2 * h / 2., h / 2., A)\n",
    "        k4 = f(y[i] + k3 * h,  h, A)\n",
    "        \n",
    "        y[i+1] = y[i] + (h / 6.) * (k1 + 2*k2 + 2*k3 + k4)\n",
    "        \n",
    "    return y"
   ]
  },
  {
   "cell_type": "code",
   "execution_count": 97,
   "metadata": {},
   "outputs": [],
   "source": [
    "def make_matrix(D,x):\n",
    "    D1 = D[0,:,:]                   # first derivative\n",
    "    D2 = D[1,:,:]                   # second derivative\n",
    "    D0=np.identity(D.shape[1])\n",
    "    #D0[0,:]=0\n",
    "    D0[-1,:]=0\n",
    "\n",
    "    for j in range(D.shape[1]):\n",
    "        for i in range(D.shape[2]):\n",
    "            if i== 0 or i == D.shape[1]-1:  \n",
    "                D1[j,i]=D1[j,i]*(0)\n",
    "                D2[j,i]=D2[j,i]*0\n",
    "            else: \n",
    "                \n",
    "                D1[j,i]=D1[j,i]*g3(x[j],L)\n",
    "                D2[j,i]=D2[j,i]*g2(x[j])\n",
    "    D0=D0*r\n",
    "    \n",
    "    A=D0.T+D1.T+D2.T\n",
    "    A[0]=A[-1]=A[0]*0\n",
    "    \n",
    "    A[:,0]=D0[0]\n",
    "    A[:,-1]=D0[-1]  \n",
    "    \n",
    "    return A"
   ]
  },
  {
   "cell_type": "code",
   "execution_count": 98,
   "metadata": {},
   "outputs": [],
   "source": [
    "def cheb_int( N, TN,L ):\n",
    "    x, D = chebdif(N, M)        # first two derivatives\n",
    "    \n",
    "    D1 = D[0,:,:]                   # first derivative\n",
    "    D2 = D[1,:,:]                   # second derivative\n",
    "    A = make_matrix(D,x)\n",
    "    A = A[1:-1,1:-1]\n",
    "    \n",
    "    #get initial values\n",
    "    y0 = [max(L*(xi+1)/(1-xi)-K,0) for xi in x]\n",
    "    y0[-1] = 0 #boundary\n",
    "    \n",
    "    t4 = np.linspace(0, T, TN)\n",
    "    t4 = np.flip(t4)\n",
    "    sol4 = rungekutta4(pend, y0, t4, A)\n",
    "    \n",
    "    return (t4,x,sol4)"
   ]
  },
  {
   "cell_type": "code",
   "execution_count": 102,
   "metadata": {},
   "outputs": [],
   "source": []
  },
  {
   "cell_type": "markdown",
   "metadata": {},
   "source": [
    "## 2.5. Implementation"
   ]
  },
  {
   "cell_type": "code",
   "execution_count": 23,
   "metadata": {},
   "outputs": [],
   "source": [
    "x, D = chebdif(N, M) \n",
    "A=make_matrix(D,x)"
   ]
  },
  {
   "cell_type": "code",
   "execution_count": 99,
   "metadata": {},
   "outputs": [
    {
     "name": "stderr",
     "output_type": "stream",
     "text": [
      "c:\\users\\tl\\anaconda3\\envs\\mediaenv\\lib\\site-packages\\ipykernel_launcher.py:2: RuntimeWarning: divide by zero encountered in double_scalars\n",
      "  \n"
     ]
    }
   ],
   "source": [
    "# boundary values for y where y is S ported to [-1,1]\n",
    "y0=[L*(1+x1)/(1-x1) for x1 in x]\n",
    "y0[-1]=0"
   ]
  },
  {
   "cell_type": "code",
   "execution_count": 100,
   "metadata": {},
   "outputs": [
    {
     "name": "stderr",
     "output_type": "stream",
     "text": [
      "c:\\users\\tl\\anaconda3\\envs\\mediaenv\\lib\\site-packages\\ipykernel_launcher.py:10: RuntimeWarning: divide by zero encountered in double_scalars\n",
      "  # Remove the CWD from sys.path while we load stuff.\n",
      "c:\\users\\tl\\anaconda3\\envs\\mediaenv\\lib\\site-packages\\ipykernel_launcher.py:6: FutureWarning: `rcond` parameter will change to the default of machine precision times ``max(M, N)`` where M and N are the input matrix dimensions.\n",
      "To use the future default and silence this warning we advise to pass `rcond=None`, to keep using the old, explicitly pass `rcond=-1`.\n",
      "  \n",
      "c:\\users\\tl\\anaconda3\\envs\\mediaenv\\lib\\site-packages\\ipykernel_launcher.py:11: RuntimeWarning: invalid value encountered in add\n",
      "  # This is added back by InteractiveShellApp.init_path()\n",
      "c:\\users\\tl\\anaconda3\\envs\\mediaenv\\lib\\site-packages\\ipykernel_launcher.py:16: RuntimeWarning: invalid value encountered in add\n",
      "  app.launch_new_instance()\n"
     ]
    }
   ],
   "source": [
    "(t4,x,sol4)=cheb_int( N, NT, L )\n"
   ]
  },
  {
   "cell_type": "code",
   "execution_count": 26,
   "metadata": {},
   "outputs": [
    {
     "name": "stderr",
     "output_type": "stream",
     "text": [
      "c:\\users\\tl\\anaconda3\\envs\\mediaenv\\lib\\site-packages\\ipykernel_launcher.py:6: FutureWarning: `rcond` parameter will change to the default of machine precision times ``max(M, N)`` where M and N are the input matrix dimensions.\n",
      "To use the future default and silence this warning we advise to pass `rcond=None`, to keep using the old, explicitly pass `rcond=-1`.\n",
      "  \n"
     ]
    }
   ],
   "source": [
    "from scipy.integrate import odeint\n",
    "sol = odeint(pend, y0, t4, (A[1:-1,1:-1],))"
   ]
  },
  {
   "cell_type": "markdown",
   "metadata": {},
   "source": [
    "###   2.5.1. How the solution behaves with time"
   ]
  },
  {
   "cell_type": "code",
   "execution_count": 101,
   "metadata": {},
   "outputs": [],
   "source": [
    "fig,ax=plt.subplots()\n",
    "\n",
    "ax.plot(t4,sol4[:,0], ':', color='blue', lw=1)\n",
    "ax.plot(t4,sol4[:,2], 'o', color='gray', lw=1)\n",
    "ax.plot(t4,sol4[:,3], '+', color='lime', lw=1)\n",
    "ax.plot(t4,sol4[:,-1], '+', color='magenta', lw=1)\n",
    "    \n",
    "plt.rc('font', size=14)\n",
    "#plt.gca().set_xlim([0,10])\n",
    "#plt.gca().set_ylim([0,28000])\n",
    "plt.xlabel('t')\n",
    "plt.ylabel(r'u');\n",
    "plt.legend(['t1', 't2', 't3'], frameon=False);"
   ]
  },
  {
   "cell_type": "markdown",
   "metadata": {},
   "source": [
    "### 2.5.2. How the solution behaves in space (S or y)"
   ]
  },
  {
   "cell_type": "code",
   "execution_count": 32,
   "metadata": {},
   "outputs": [
    {
     "data": {
      "image/png": "[encoded data removed]",
      "text/plain": [
       "<Figure size 432x288 with 1 Axes>"
      ]
     },
     "metadata": {
      "needs_background": "light"
     },
     "output_type": "display_data"
    }
   ],
   "source": [
    "fig,ax=plt.subplots()\n",
    "for ix in range(len(t4)-12):\n",
    "    ax.plot(x,sol4[ix,], ':', color='blue', lw=1)\n",
    "\n",
    "    plt.rc('font', size=14)\n",
    "    #plt.gca().set_xlim([0,10])\n",
    "    #plt.gca().set_ylim([0,500])\n",
    "    plt.xlabel('x')\n",
    "    plt.ylabel(r'v');\n",
    "    plt.legend('t1'+str(t4[ix]), frameon=True);"
   ]
  },
  {
   "cell_type": "markdown",
   "metadata": {},
   "source": [
    "## 3. Visualize approximation vs Exact"
   ]
  },
  {
   "cell_type": "code",
   "execution_count": 104,
   "metadata": {},
   "outputs": [
    {
     "name": "stderr",
     "output_type": "stream",
     "text": [
      "c:\\users\\tl\\anaconda3\\envs\\mediaenv\\lib\\site-packages\\ipykernel_launcher.py:2: RuntimeWarning: divide by zero encountered in double_scalars\n",
      "  \n"
     ]
    }
   ],
   "source": [
    "# Visualizing in terms of S\n",
    "S=[L*(1+xi)/(1-xi) for xi in x]"
   ]
  },
  {
   "cell_type": "code",
   "execution_count": 105,
   "metadata": {},
   "outputs": [
    {
     "data": {
      "text/plain": [
       "2329.223831549756"
      ]
     },
     "execution_count": 105,
     "metadata": {},
     "output_type": "execute_result"
    }
   ],
   "source": [
    "Smax=S[1]\n",
    "Smax"
   ]
  },
  {
   "cell_type": "code",
   "execution_count": 41,
   "metadata": {},
   "outputs": [],
   "source": [
    "%matplotlib qt"
   ]
  },
  {
   "cell_type": "code",
   "execution_count": 106,
   "metadata": {},
   "outputs": [
    {
     "name": "stderr",
     "output_type": "stream",
     "text": [
      "c:\\users\\tl\\anaconda3\\envs\\mediaenv\\lib\\site-packages\\ipykernel_launcher.py:10: RuntimeWarning: divide by zero encountered in double_scalars\n",
      "  # Remove the CWD from sys.path while we load stuff.\n",
      "c:\\users\\tl\\anaconda3\\envs\\mediaenv\\lib\\site-packages\\ipykernel_launcher.py:6: FutureWarning: `rcond` parameter will change to the default of machine precision times ``max(M, N)`` where M and N are the input matrix dimensions.\n",
      "To use the future default and silence this warning we advise to pass `rcond=None`, to keep using the old, explicitly pass `rcond=-1`.\n",
      "  \n",
      "c:\\users\\tl\\anaconda3\\envs\\mediaenv\\lib\\site-packages\\ipykernel_launcher.py:11: RuntimeWarning: invalid value encountered in add\n",
      "  # This is added back by InteractiveShellApp.init_path()\n",
      "c:\\users\\tl\\anaconda3\\envs\\mediaenv\\lib\\site-packages\\ipykernel_launcher.py:16: RuntimeWarning: invalid value encountered in add\n",
      "  app.launch_new_instance()\n"
     ]
    }
   ],
   "source": [
    "# Make data.\n",
    "\n",
    "x, D = chebdif(N, M)        # first two derivatives\n",
    "\n",
    "A=make_matrix(D,x)\n",
    "\n",
    "(t4,x,sol4)=cheb_int( N, NT, L )\n",
    "xn=x[1:]\n",
    "X, Y = np.meshgrid(xn, t4)\n",
    "\n",
    "Z = np.zeros((len(t4),len(xn)))\n",
    "for i in range(len(t4)):\n",
    "    for j in range(len(xn)):\n",
    "        Z[i,j]=exact(t4[i],xn[j])\n",
    "        \n",
    "        \n",
    "# Plot the surface.\n",
    "fig, ax = plt.subplots(subplot_kw={\"projection\": \"3d\"})\n",
    "surf = ax.plot_surface(X, Y, Z, cmap=cm.rainbow,\n",
    "                       linewidth=0, antialiased=False)\n",
    "\n",
    "surf = ax.plot_surface(X, Y, sol4[:,1:], rstride=1, cstride=1,\n",
    "                        cmap=cm.coolwarm,\n",
    "                        alpha=1,\n",
    "                       linewidth=0, antialiased=False)\n",
    "# Customize the z axis.\n",
    "#ax.set_zlim(-1.01, 1.01)\n",
    "ax.zaxis.set_major_locator(LinearLocator(10))\n",
    "# A StrMethodFormatter is used automatically\n",
    "\n",
    "# Add a color bar which maps values to colors.\n",
    "#fig.colorbar(surf, shrink=0.5, aspect=5)\n",
    "plt.show()\n"
   ]
  },
  {
   "cell_type": "markdown",
   "metadata": {},
   "source": [
    "# 5. Studying Convergence of the Error"
   ]
  },
  {
   "cell_type": "code",
   "execution_count": 107,
   "metadata": {},
   "outputs": [],
   "source": [
    " #use the same data as in the plot above"
   ]
  },
  {
   "cell_type": "code",
   "execution_count": 109,
   "metadata": {},
   "outputs": [],
   "source": [
    "sol4Z = sol4[:,1:]"
   ]
  },
  {
   "cell_type": "code",
   "execution_count": 110,
   "metadata": {},
   "outputs": [
    {
     "data": {
      "text/plain": [
       "0.08212692262488827"
      ]
     },
     "execution_count": 110,
     "metadata": {},
     "output_type": "execute_result"
    }
   ],
   "source": [
    "np.linalg.norm(sol4Z - Z, np.inf)/np.linalg.norm(Z, np.inf)"
   ]
  },
  {
   "cell_type": "code",
   "execution_count": 112,
   "metadata": {},
   "outputs": [
    {
     "name": "stderr",
     "output_type": "stream",
     "text": [
      "c:\\users\\tl\\anaconda3\\envs\\mediaenv\\lib\\site-packages\\ipykernel_launcher.py:1: RuntimeWarning: divide by zero encountered in true_divide\n",
      "  \"\"\"Entry point for launching an IPython kernel.\n",
      "c:\\users\\tl\\anaconda3\\envs\\mediaenv\\lib\\site-packages\\ipykernel_launcher.py:1: RuntimeWarning: invalid value encountered in true_divide\n",
      "  \"\"\"Entry point for launching an IPython kernel.\n"
     ]
    }
   ],
   "source": [
    "pd.DataFrame(np.abs((sol4Z-Z)/Z)).to_csv(\"errors.csv\")"
   ]
  },
  {
   "cell_type": "markdown",
   "metadata": {},
   "source": [
    "### 5.1. Error as a function of number of S/x points"
   ]
  },
  {
   "cell_type": "code",
   "execution_count": 113,
   "metadata": {},
   "outputs": [
    {
     "name": "stderr",
     "output_type": "stream",
     "text": [
      "c:\\users\\tl\\anaconda3\\envs\\mediaenv\\lib\\site-packages\\ipykernel_launcher.py:10: RuntimeWarning: divide by zero encountered in double_scalars\n",
      "  # Remove the CWD from sys.path while we load stuff.\n",
      "c:\\users\\tl\\anaconda3\\envs\\mediaenv\\lib\\site-packages\\ipykernel_launcher.py:6: FutureWarning: `rcond` parameter will change to the default of machine precision times ``max(M, N)`` where M and N are the input matrix dimensions.\n",
      "To use the future default and silence this warning we advise to pass `rcond=None`, to keep using the old, explicitly pass `rcond=-1`.\n",
      "  \n",
      "c:\\users\\tl\\anaconda3\\envs\\mediaenv\\lib\\site-packages\\ipykernel_launcher.py:11: RuntimeWarning: invalid value encountered in add\n",
      "  # This is added back by InteractiveShellApp.init_path()\n",
      "c:\\users\\tl\\anaconda3\\envs\\mediaenv\\lib\\site-packages\\ipykernel_launcher.py:16: RuntimeWarning: invalid value encountered in add\n",
      "  app.launch_new_instance()\n"
     ]
    }
   ],
   "source": [
    "Nmin = 4\n",
    "n = Nmin\n",
    "i = 1\n",
    "\n",
    "ns=[]\n",
    "err=[]\n",
    "\n",
    "norminf=[]\n",
    "while ( n <= 180 ):  \n",
    "    x, D = chebdif(n, M)        # first two derivatives\n",
    "\n",
    "    A=make_matrix(D,x)\n",
    "\n",
    "    (t4,x,sol4)=cheb_int( n, NT, L )\n",
    "    sol4Z = sol4[:,1:]\n",
    "    xn=x[1:]\n",
    "    \n",
    "    Z = np.zeros((len(t4),len(xn)))\n",
    "    for i in range(len(t4)):\n",
    "        for j in range(len(xn)):\n",
    "            Z[i,j]=exact(t4[i],xn[j])\n",
    "    norminf.append(np.linalg.norm(sol4Z - Z, np.inf)/np.linalg.norm(Z, np.inf))\n",
    "    ns.append(n)\n",
    "    n = n * 2;\n",
    "# Plotting the error;\n",
    "fig,ax=plt.subplots()\n",
    "\n",
    "ax.plot(ns,norminf, ':', color='red', lw=1)\n",
    "#ax.set_xscale('log')\n",
    "ax.set_yscale('log')\n",
    "\n",
    "plt.rc('font', size=14)\n",
    "#plt.gca().set_xlim([0,10])\n",
    "plt.xlabel('N')\n",
    "plt.ylabel('error');\n",
    "\n",
    "plt.legend(['Infinity norm'], frameon=True);"
   ]
  },
  {
   "cell_type": "markdown",
   "metadata": {},
   "source": [
    "## 5.2. Error as a function of max time T"
   ]
  },
  {
   "cell_type": "code",
   "execution_count": 86,
   "metadata": {},
   "outputs": [
    {
     "name": "stderr",
     "output_type": "stream",
     "text": [
      "c:\\users\\tl\\anaconda3\\envs\\mediaenv\\lib\\site-packages\\ipykernel_launcher.py:10: RuntimeWarning: divide by zero encountered in double_scalars\n",
      "  # Remove the CWD from sys.path while we load stuff.\n",
      "c:\\users\\tl\\anaconda3\\envs\\mediaenv\\lib\\site-packages\\ipykernel_launcher.py:6: FutureWarning: `rcond` parameter will change to the default of machine precision times ``max(M, N)`` where M and N are the input matrix dimensions.\n",
      "To use the future default and silence this warning we advise to pass `rcond=None`, to keep using the old, explicitly pass `rcond=-1`.\n",
      "  \n",
      "c:\\users\\tl\\anaconda3\\envs\\mediaenv\\lib\\site-packages\\ipykernel_launcher.py:11: RuntimeWarning: invalid value encountered in add\n",
      "  # This is added back by InteractiveShellApp.init_path()\n",
      "c:\\users\\tl\\anaconda3\\envs\\mediaenv\\lib\\site-packages\\ipykernel_launcher.py:16: RuntimeWarning: invalid value encountered in add\n",
      "  app.launch_new_instance()\n"
     ]
    }
   ],
   "source": [
    "# For  t\n",
    "Nmin = 40\n",
    "t = tmin = 15\n",
    "\n",
    "ts=[]\n",
    "err=[]\n",
    "\n",
    "norminf=[]\n",
    "while ( t <= 205 ):  \n",
    "    x, D = chebdif(Nmin, M)        # first two derivatives\n",
    "\n",
    "    A=make_matrix(D,x)\n",
    "\n",
    "    (t4,x,sol4)=cheb_int( Nmin, t, L )\n",
    "    sol4Z = sol4[:,1:]\n",
    "    xn=x[1:]\n",
    "    \n",
    "    Z = np.zeros((len(t4),len(xn)))\n",
    "    for i in range(len(t4)):\n",
    "        for j in range(len(xn)):\n",
    "            Z[i,j]=exact(t4[i],xn[j])\n",
    "    norminf.append(np.linalg.norm(sol4Z - Z, np.inf)/np.linalg.norm(Z, np.inf))\n",
    "    ts.append(t)\n",
    "    t = t + 5;\n",
    "# Plotting the error;\n",
    "fig,ax=plt.subplots()\n",
    "\n",
    "ax.plot(ts,norminf, ':', color='red', lw=1)\n",
    "#ax.set_xscale('log')\n",
    "ax.set_yscale('log')\n",
    "\n",
    "plt.rc('font', size=14)\n",
    "#plt.gca().set_xlim([0,10])\n",
    "plt.xlabel('T')\n",
    "plt.ylabel('error');\n",
    "\n",
    "plt.legend(['Infinity norm'], frameon=True);"
   ]
  },
  {
   "cell_type": "markdown",
   "metadata": {},
   "source": [
    "## 5.2. Error as a function of L"
   ]
  },
  {
   "cell_type": "code",
   "execution_count": 89,
   "metadata": {},
   "outputs": [
    {
     "name": "stderr",
     "output_type": "stream",
     "text": [
      "c:\\users\\tl\\anaconda3\\envs\\mediaenv\\lib\\site-packages\\ipykernel_launcher.py:10: RuntimeWarning: divide by zero encountered in double_scalars\n",
      "  # Remove the CWD from sys.path while we load stuff.\n",
      "c:\\users\\tl\\anaconda3\\envs\\mediaenv\\lib\\site-packages\\ipykernel_launcher.py:6: FutureWarning: `rcond` parameter will change to the default of machine precision times ``max(M, N)`` where M and N are the input matrix dimensions.\n",
      "To use the future default and silence this warning we advise to pass `rcond=None`, to keep using the old, explicitly pass `rcond=-1`.\n",
      "  \n",
      "c:\\users\\tl\\anaconda3\\envs\\mediaenv\\lib\\site-packages\\ipykernel_launcher.py:11: RuntimeWarning: invalid value encountered in add\n",
      "  # This is added back by InteractiveShellApp.init_path()\n",
      "c:\\users\\tl\\anaconda3\\envs\\mediaenv\\lib\\site-packages\\ipykernel_launcher.py:16: RuntimeWarning: invalid value encountered in add\n",
      "  app.launch_new_instance()\n"
     ]
    }
   ],
   "source": [
    "#dependence on L\n",
    "l = 4\n",
    "Nmin = 40\n",
    "t = tmin = 15\n",
    "\n",
    "ls=[]\n",
    "err=[]\n",
    "\n",
    "norminf=[]\n",
    "while ( l <= 40 ):  \n",
    "    x, D = chebdif(Nmin, M)        # first two derivatives\n",
    "\n",
    "    A=make_matrix(D,x)\n",
    "\n",
    "    (t4,x,sol4)=cheb_int( Nmin, t, l )\n",
    "    sol4Z = sol4[:,1:]\n",
    "    xn=x[1:]\n",
    "    \n",
    "    Z = np.zeros((len(t4),len(xn)))\n",
    "    for i in range(len(t4)):\n",
    "        for j in range(len(xn)):\n",
    "            Z[i,j]=exact(t4[i],xn[j])\n",
    "    norminf.append(np.linalg.norm(sol4Z - Z, np.inf)/np.linalg.norm(Z, np.inf))\n",
    "    ls.append(l)\n",
    "    l = l + 1;\n",
    "# Plotting the error;\n",
    "fig,ax=plt.subplots()\n",
    "\n",
    "ax.plot(ls,norminf, ':', color='red', lw=1)\n",
    "#ax.set_xscale('log')\n",
    "ax.set_yscale('log')\n",
    "\n",
    "plt.rc('font', size=14)\n",
    "#plt.gca().set_xlim([0,10])\n",
    "plt.xlabel('L')\n",
    "plt.ylabel('error');\n",
    "\n",
    "plt.legend(['Infinity norm'], frameon=True);"
   ]
  },
  {
   "cell_type": "code",
   "execution_count": null,
   "metadata": {},
   "outputs": [],
   "source": []
  },
  {
   "cell_type": "code",
   "execution_count": null,
   "metadata": {},
   "outputs": [],
   "source": []
  },
  {
   "cell_type": "code",
   "execution_count": null,
   "metadata": {},
   "outputs": [],
   "source": []
  }
 ],
 "metadata": {
  "kernelspec": {
   "display_name": "Python 3",
   "language": "python",
   "name": "python3"
  },
  "language_info": {
   "codemirror_mode": {
    "name": "ipython",
    "version": 3
   },
   "file_extension": ".py",
   "mimetype": "text/x-python",
   "name": "python",
   "nbconvert_exporter": "python",
   "pygments_lexer": "ipython3",
   "version": "3.7.3"
  }
 },
 "nbformat": 4,
 "nbformat_minor": 5
}
